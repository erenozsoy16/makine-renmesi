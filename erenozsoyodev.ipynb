{
 "cells": [
  {
   "cell_type": "code",
   "execution_count": 159,
   "id": "10f94a68-26f0-406d-9049-7a7bf8659133",
   "metadata": {},
   "outputs": [],
   "source": [
    "import pandas as pd\n",
    "import numpy as np\n",
    "import matplotlib.pyplot as plt\n",
    "from sklearn.linear_model import LinearRegression\n",
    "from sklearn.tree import DecisionTreeRegressor\n",
    "from sklearn.metrics import r2_score,mean_absolute_percentage_error\n",
    "\n",
    "df=pd.read_csv(\"Sleep_health_and_lifestyle_dataset.csv\")\n"
   ]
  },
  {
   "cell_type": "code",
   "execution_count": 161,
   "id": "3568bcc8-ab88-4ca6-a241-7e5b1d5248d3",
   "metadata": {},
   "outputs": [
    {
     "name": "stdout",
     "output_type": "stream",
     "text": [
      "     Person ID  Gender  Age            Occupation  Sleep Duration  \\\n",
      "0            1    Male   27     Software Engineer             6.1   \n",
      "1            2    Male   28                Doctor             6.2   \n",
      "2            3    Male   28                Doctor             6.2   \n",
      "3            4    Male   28  Sales Representative             5.9   \n",
      "4            5    Male   28  Sales Representative             5.9   \n",
      "..         ...     ...  ...                   ...             ...   \n",
      "369        370  Female   59                 Nurse             8.1   \n",
      "370        371  Female   59                 Nurse             8.0   \n",
      "371        372  Female   59                 Nurse             8.1   \n",
      "372        373  Female   59                 Nurse             8.1   \n",
      "373        374  Female   59                 Nurse             8.1   \n",
      "\n",
      "     Quality of Sleep  Physical Activity Level  Stress Level BMI Category  \\\n",
      "0                   6                       42             6   Overweight   \n",
      "1                   6                       60             8       Normal   \n",
      "2                   6                       60             8       Normal   \n",
      "3                   4                       30             8        Obese   \n",
      "4                   4                       30             8        Obese   \n",
      "..                ...                      ...           ...          ...   \n",
      "369                 9                       75             3   Overweight   \n",
      "370                 9                       75             3   Overweight   \n",
      "371                 9                       75             3   Overweight   \n",
      "372                 9                       75             3   Overweight   \n",
      "373                 9                       75             3   Overweight   \n",
      "\n",
      "    Blood Pressure  Heart Rate  Daily Steps Sleep Disorder  \n",
      "0           126/83          77         4200            NaN  \n",
      "1           125/80          75        10000            NaN  \n",
      "2           125/80          75        10000            NaN  \n",
      "3           140/90          85         3000    Sleep Apnea  \n",
      "4           140/90          85         3000    Sleep Apnea  \n",
      "..             ...         ...          ...            ...  \n",
      "369         140/95          68         7000    Sleep Apnea  \n",
      "370         140/95          68         7000    Sleep Apnea  \n",
      "371         140/95          68         7000    Sleep Apnea  \n",
      "372         140/95          68         7000    Sleep Apnea  \n",
      "373         140/95          68         7000    Sleep Apnea  \n",
      "\n",
      "[374 rows x 13 columns]\n"
     ]
    }
   ],
   "source": [
    "print (df)"
   ]
  },
  {
   "cell_type": "code",
   "execution_count": 163,
   "id": "72d43a35-c249-42e4-93e0-65b6e530fd54",
   "metadata": {},
   "outputs": [],
   "source": [
    "df.drop(columns=['Sleep Disorder'], inplace=True)"
   ]
  },
  {
   "cell_type": "code",
   "execution_count": 165,
   "id": "ca3030d4-21f5-44fc-8f29-3861c79712a3",
   "metadata": {},
   "outputs": [
    {
     "name": "stdout",
     "output_type": "stream",
     "text": [
      "     Person ID  Gender  Age            Occupation  Sleep Duration  \\\n",
      "0            1    Male   27     Software Engineer             6.1   \n",
      "1            2    Male   28                Doctor             6.2   \n",
      "2            3    Male   28                Doctor             6.2   \n",
      "3            4    Male   28  Sales Representative             5.9   \n",
      "4            5    Male   28  Sales Representative             5.9   \n",
      "..         ...     ...  ...                   ...             ...   \n",
      "369        370  Female   59                 Nurse             8.1   \n",
      "370        371  Female   59                 Nurse             8.0   \n",
      "371        372  Female   59                 Nurse             8.1   \n",
      "372        373  Female   59                 Nurse             8.1   \n",
      "373        374  Female   59                 Nurse             8.1   \n",
      "\n",
      "     Quality of Sleep  Physical Activity Level  Stress Level BMI Category  \\\n",
      "0                   6                       42             6   Overweight   \n",
      "1                   6                       60             8       Normal   \n",
      "2                   6                       60             8       Normal   \n",
      "3                   4                       30             8        Obese   \n",
      "4                   4                       30             8        Obese   \n",
      "..                ...                      ...           ...          ...   \n",
      "369                 9                       75             3   Overweight   \n",
      "370                 9                       75             3   Overweight   \n",
      "371                 9                       75             3   Overweight   \n",
      "372                 9                       75             3   Overweight   \n",
      "373                 9                       75             3   Overweight   \n",
      "\n",
      "    Blood Pressure  Heart Rate  Daily Steps  \n",
      "0           126/83          77         4200  \n",
      "1           125/80          75        10000  \n",
      "2           125/80          75        10000  \n",
      "3           140/90          85         3000  \n",
      "4           140/90          85         3000  \n",
      "..             ...         ...          ...  \n",
      "369         140/95          68         7000  \n",
      "370         140/95          68         7000  \n",
      "371         140/95          68         7000  \n",
      "372         140/95          68         7000  \n",
      "373         140/95          68         7000  \n",
      "\n",
      "[374 rows x 12 columns]\n"
     ]
    }
   ],
   "source": [
    "print (df)"
   ]
  },
  {
   "cell_type": "code",
   "execution_count": 167,
   "id": "1187ba37-23f6-4fc7-8522-54db8cbdf521",
   "metadata": {},
   "outputs": [
    {
     "data": {
      "text/plain": [
       "<bound method NDFrame.head of      Person ID  Gender  Age            Occupation  Sleep Duration  \\\n",
       "0            1    Male   27     Software Engineer             6.1   \n",
       "1            2    Male   28                Doctor             6.2   \n",
       "2            3    Male   28                Doctor             6.2   \n",
       "3            4    Male   28  Sales Representative             5.9   \n",
       "4            5    Male   28  Sales Representative             5.9   \n",
       "..         ...     ...  ...                   ...             ...   \n",
       "369        370  Female   59                 Nurse             8.1   \n",
       "370        371  Female   59                 Nurse             8.0   \n",
       "371        372  Female   59                 Nurse             8.1   \n",
       "372        373  Female   59                 Nurse             8.1   \n",
       "373        374  Female   59                 Nurse             8.1   \n",
       "\n",
       "     Quality of Sleep  Physical Activity Level  Stress Level BMI Category  \\\n",
       "0                   6                       42             6   Overweight   \n",
       "1                   6                       60             8       Normal   \n",
       "2                   6                       60             8       Normal   \n",
       "3                   4                       30             8        Obese   \n",
       "4                   4                       30             8        Obese   \n",
       "..                ...                      ...           ...          ...   \n",
       "369                 9                       75             3   Overweight   \n",
       "370                 9                       75             3   Overweight   \n",
       "371                 9                       75             3   Overweight   \n",
       "372                 9                       75             3   Overweight   \n",
       "373                 9                       75             3   Overweight   \n",
       "\n",
       "    Blood Pressure  Heart Rate  Daily Steps  \n",
       "0           126/83          77         4200  \n",
       "1           125/80          75        10000  \n",
       "2           125/80          75        10000  \n",
       "3           140/90          85         3000  \n",
       "4           140/90          85         3000  \n",
       "..             ...         ...          ...  \n",
       "369         140/95          68         7000  \n",
       "370         140/95          68         7000  \n",
       "371         140/95          68         7000  \n",
       "372         140/95          68         7000  \n",
       "373         140/95          68         7000  \n",
       "\n",
       "[374 rows x 12 columns]>"
      ]
     },
     "execution_count": 167,
     "metadata": {},
     "output_type": "execute_result"
    }
   ],
   "source": [
    "df.head"
   ]
  },
  {
   "cell_type": "code",
   "execution_count": 169,
   "id": "70336425-2f1a-4b67-8b07-8769647e54c7",
   "metadata": {},
   "outputs": [
    {
     "data": {
      "text/plain": [
       "<bound method NDFrame.describe of      Person ID  Gender  Age            Occupation  Sleep Duration  \\\n",
       "0            1    Male   27     Software Engineer             6.1   \n",
       "1            2    Male   28                Doctor             6.2   \n",
       "2            3    Male   28                Doctor             6.2   \n",
       "3            4    Male   28  Sales Representative             5.9   \n",
       "4            5    Male   28  Sales Representative             5.9   \n",
       "..         ...     ...  ...                   ...             ...   \n",
       "369        370  Female   59                 Nurse             8.1   \n",
       "370        371  Female   59                 Nurse             8.0   \n",
       "371        372  Female   59                 Nurse             8.1   \n",
       "372        373  Female   59                 Nurse             8.1   \n",
       "373        374  Female   59                 Nurse             8.1   \n",
       "\n",
       "     Quality of Sleep  Physical Activity Level  Stress Level BMI Category  \\\n",
       "0                   6                       42             6   Overweight   \n",
       "1                   6                       60             8       Normal   \n",
       "2                   6                       60             8       Normal   \n",
       "3                   4                       30             8        Obese   \n",
       "4                   4                       30             8        Obese   \n",
       "..                ...                      ...           ...          ...   \n",
       "369                 9                       75             3   Overweight   \n",
       "370                 9                       75             3   Overweight   \n",
       "371                 9                       75             3   Overweight   \n",
       "372                 9                       75             3   Overweight   \n",
       "373                 9                       75             3   Overweight   \n",
       "\n",
       "    Blood Pressure  Heart Rate  Daily Steps  \n",
       "0           126/83          77         4200  \n",
       "1           125/80          75        10000  \n",
       "2           125/80          75        10000  \n",
       "3           140/90          85         3000  \n",
       "4           140/90          85         3000  \n",
       "..             ...         ...          ...  \n",
       "369         140/95          68         7000  \n",
       "370         140/95          68         7000  \n",
       "371         140/95          68         7000  \n",
       "372         140/95          68         7000  \n",
       "373         140/95          68         7000  \n",
       "\n",
       "[374 rows x 12 columns]>"
      ]
     },
     "execution_count": 169,
     "metadata": {},
     "output_type": "execute_result"
    }
   ],
   "source": [
    "df.describe"
   ]
  },
  {
   "cell_type": "code",
   "execution_count": 171,
   "id": "ded5b8a0-dc73-48d1-8a2b-8e487d97f423",
   "metadata": {},
   "outputs": [
    {
     "data": {
      "text/plain": [
       "<bound method DataFrame.sum of      Person ID  Gender  Age            Occupation  Sleep Duration  \\\n",
       "0            1    Male   27     Software Engineer             6.1   \n",
       "1            2    Male   28                Doctor             6.2   \n",
       "2            3    Male   28                Doctor             6.2   \n",
       "3            4    Male   28  Sales Representative             5.9   \n",
       "4            5    Male   28  Sales Representative             5.9   \n",
       "..         ...     ...  ...                   ...             ...   \n",
       "369        370  Female   59                 Nurse             8.1   \n",
       "370        371  Female   59                 Nurse             8.0   \n",
       "371        372  Female   59                 Nurse             8.1   \n",
       "372        373  Female   59                 Nurse             8.1   \n",
       "373        374  Female   59                 Nurse             8.1   \n",
       "\n",
       "     Quality of Sleep  Physical Activity Level  Stress Level BMI Category  \\\n",
       "0                   6                       42             6   Overweight   \n",
       "1                   6                       60             8       Normal   \n",
       "2                   6                       60             8       Normal   \n",
       "3                   4                       30             8        Obese   \n",
       "4                   4                       30             8        Obese   \n",
       "..                ...                      ...           ...          ...   \n",
       "369                 9                       75             3   Overweight   \n",
       "370                 9                       75             3   Overweight   \n",
       "371                 9                       75             3   Overweight   \n",
       "372                 9                       75             3   Overweight   \n",
       "373                 9                       75             3   Overweight   \n",
       "\n",
       "    Blood Pressure  Heart Rate  Daily Steps  \n",
       "0           126/83          77         4200  \n",
       "1           125/80          75        10000  \n",
       "2           125/80          75        10000  \n",
       "3           140/90          85         3000  \n",
       "4           140/90          85         3000  \n",
       "..             ...         ...          ...  \n",
       "369         140/95          68         7000  \n",
       "370         140/95          68         7000  \n",
       "371         140/95          68         7000  \n",
       "372         140/95          68         7000  \n",
       "373         140/95          68         7000  \n",
       "\n",
       "[374 rows x 12 columns]>"
      ]
     },
     "execution_count": 171,
     "metadata": {},
     "output_type": "execute_result"
    }
   ],
   "source": [
    "df.sum"
   ]
  },
  {
   "cell_type": "code",
   "execution_count": 173,
   "id": "5da872dc-8ce1-4180-bc55-67df4e947c73",
   "metadata": {},
   "outputs": [
    {
     "name": "stdout",
     "output_type": "stream",
     "text": [
      "Person ID                  0\n",
      "Gender                     0\n",
      "Age                        0\n",
      "Occupation                 0\n",
      "Sleep Duration             0\n",
      "Quality of Sleep           0\n",
      "Physical Activity Level    0\n",
      "Stress Level               0\n",
      "BMI Category               0\n",
      "Blood Pressure             0\n",
      "Heart Rate                 0\n",
      "Daily Steps                0\n",
      "dtype: int64\n"
     ]
    }
   ],
   "source": [
    "print(df.isna().sum())"
   ]
  },
  {
   "cell_type": "raw",
   "id": "65e9993d-cc14-4819-bb11-5f17774bc686",
   "metadata": {},
   "source": [
    "# Sleep Disorder sütununda çok fazla eksik değer(NaN) olduğundan dolayı o sütunu sildim."
   ]
  },
  {
   "cell_type": "code",
   "execution_count": 175,
   "id": "299a6247-5540-4e5d-b88c-4dbb7e6104b2",
   "metadata": {},
   "outputs": [
    {
     "name": "stdout",
     "output_type": "stream",
     "text": [
      "Person ID                    int64\n",
      "Gender                      object\n",
      "Age                          int64\n",
      "Occupation                  object\n",
      "Sleep Duration             float64\n",
      "Quality of Sleep             int64\n",
      "Physical Activity Level      int64\n",
      "Stress Level                 int64\n",
      "BMI Category                object\n",
      "Blood Pressure              object\n",
      "Heart Rate                   int64\n",
      "Daily Steps                  int64\n",
      "dtype: object\n"
     ]
    }
   ],
   "source": [
    "print(df.dtypes)"
   ]
  },
  {
   "cell_type": "code",
   "execution_count": 177,
   "id": "cd44653f-95f2-493f-b19c-19ff84452f38",
   "metadata": {},
   "outputs": [],
   "source": [
    "# gender ısütununuu kategorik yapıyorum"
   ]
  },
  {
   "cell_type": "code",
   "execution_count": 179,
   "id": "72749681-0ca0-4f8d-9d7a-ebef3eda6a9b",
   "metadata": {},
   "outputs": [
    {
     "name": "stdout",
     "output_type": "stream",
     "text": [
      "     Person ID  Age            Occupation  Sleep Duration  Quality of Sleep  \\\n",
      "0            1   27     Software Engineer             6.1                 6   \n",
      "1            2   28                Doctor             6.2                 6   \n",
      "2            3   28                Doctor             6.2                 6   \n",
      "3            4   28  Sales Representative             5.9                 4   \n",
      "4            5   28  Sales Representative             5.9                 4   \n",
      "..         ...  ...                   ...             ...               ...   \n",
      "369        370   59                 Nurse             8.1                 9   \n",
      "370        371   59                 Nurse             8.0                 9   \n",
      "371        372   59                 Nurse             8.1                 9   \n",
      "372        373   59                 Nurse             8.1                 9   \n",
      "373        374   59                 Nurse             8.1                 9   \n",
      "\n",
      "     Physical Activity Level  Stress Level BMI Category Blood Pressure  \\\n",
      "0                         42             6   Overweight         126/83   \n",
      "1                         60             8       Normal         125/80   \n",
      "2                         60             8       Normal         125/80   \n",
      "3                         30             8        Obese         140/90   \n",
      "4                         30             8        Obese         140/90   \n",
      "..                       ...           ...          ...            ...   \n",
      "369                       75             3   Overweight         140/95   \n",
      "370                       75             3   Overweight         140/95   \n",
      "371                       75             3   Overweight         140/95   \n",
      "372                       75             3   Overweight         140/95   \n",
      "373                       75             3   Overweight         140/95   \n",
      "\n",
      "     Heart Rate  Daily Steps  Gender_Female  Gender_Male  \n",
      "0            77         4200          False         True  \n",
      "1            75        10000          False         True  \n",
      "2            75        10000          False         True  \n",
      "3            85         3000          False         True  \n",
      "4            85         3000          False         True  \n",
      "..          ...          ...            ...          ...  \n",
      "369          68         7000           True        False  \n",
      "370          68         7000           True        False  \n",
      "371          68         7000           True        False  \n",
      "372          68         7000           True        False  \n",
      "373          68         7000           True        False  \n",
      "\n",
      "[374 rows x 13 columns]\n"
     ]
    }
   ],
   "source": [
    "df=pd.get_dummies(df,columns=[\"Gender\"])\n",
    "print(df)"
   ]
  },
  {
   "cell_type": "code",
   "execution_count": 181,
   "id": "ba6a6abe-ee76-42b1-a6b3-9e13bc2d0499",
   "metadata": {},
   "outputs": [
    {
     "name": "stdout",
     "output_type": "stream",
     "text": [
      "0      False\n",
      "1      False\n",
      "2      False\n",
      "3      False\n",
      "4      False\n",
      "       ...  \n",
      "369    False\n",
      "370    False\n",
      "371    False\n",
      "372    False\n",
      "373    False\n",
      "Length: 374, dtype: bool\n"
     ]
    }
   ],
   "source": [
    "print(df.duplicated())"
   ]
  },
  {
   "cell_type": "code",
   "execution_count": 183,
   "id": "d82f9e6a-c22c-4649-96e1-6da4bad58add",
   "metadata": {},
   "outputs": [
    {
     "name": "stdout",
     "output_type": "stream",
     "text": [
      "Empty DataFrame\n",
      "Columns: [Person ID, Age, Occupation, Sleep Duration, Quality of Sleep, Physical Activity Level, Stress Level, BMI Category, Blood Pressure, Heart Rate, Daily Steps, Gender_Female, Gender_Male]\n",
      "Index: []\n"
     ]
    }
   ],
   "source": [
    "print(df[df.duplicated()])"
   ]
  },
  {
   "cell_type": "code",
   "execution_count": 185,
   "id": "33810dfc-c9cb-4ec9-bd1b-d83a0f7ff519",
   "metadata": {},
   "outputs": [],
   "source": [
    "# tekrarlayan verilerin varlığını kontrol ettikten sonra aşırı veri var mı yok mu kontrol ediyoruz"
   ]
  },
  {
   "cell_type": "code",
   "execution_count": 187,
   "id": "658a68b1-db10-4746-9402-d3a9d913a188",
   "metadata": {},
   "outputs": [
    {
     "name": "stdout",
     "output_type": "stream",
     "text": [
      "187.5\n",
      "108.10874155219827\n",
      "187.5\n"
     ]
    }
   ],
   "source": [
    "import numpy as np\n",
    "print(df[\"Person ID\"].mean())\n",
    "print(df[\"Person ID\"].std())\n",
    "print(np.median(df[\"Person ID\"]))"
   ]
  },
  {
   "cell_type": "code",
   "execution_count": 189,
   "id": "cd8e232b-a154-41d6-99dc-f14e4d1ac6ec",
   "metadata": {},
   "outputs": [
    {
     "name": "stdout",
     "output_type": "stream",
     "text": [
      "42.18449197860963\n",
      "8.67313346554724\n",
      "43.0\n"
     ]
    }
   ],
   "source": [
    "print(df[\"Age\"].mean())\n",
    "print(df[\"Age\"].std())\n",
    "print(np.median(df.Age))"
   ]
  },
  {
   "cell_type": "code",
   "execution_count": 191,
   "id": "14d97a8c-f02e-431f-9907-eb8c8a4d5564",
   "metadata": {},
   "outputs": [
    {
     "name": "stdout",
     "output_type": "stream",
     "text": [
      "7.132085561497325\n",
      "0.7956567308898188\n",
      "7.2\n"
     ]
    }
   ],
   "source": [
    "print(df[\"Sleep Duration\"].mean())\n",
    "print(df[\"Sleep Duration\"].std())\n",
    "print(np.median(df[\"Sleep Duration\"]))"
   ]
  },
  {
   "cell_type": "code",
   "execution_count": 193,
   "id": "e78320ac-e7ce-4c40-9cbb-eeedd929667b",
   "metadata": {},
   "outputs": [
    {
     "name": "stdout",
     "output_type": "stream",
     "text": [
      "7.31283422459893\n",
      "1.1969559197336044\n",
      "7.0\n"
     ]
    }
   ],
   "source": [
    "print(df[\"Quality of Sleep\"].mean())\n",
    "print(df[\"Quality of Sleep\"].std())\n",
    "print(np.median(df[\"Quality of Sleep\"]))"
   ]
  },
  {
   "cell_type": "code",
   "execution_count": 195,
   "id": "b8dd91ab-fb7e-4d01-904b-abc85005b3bc",
   "metadata": {},
   "outputs": [
    {
     "name": "stdout",
     "output_type": "stream",
     "text": [
      "59.17112299465241\n",
      "20.830803658071673\n",
      "60.0\n"
     ]
    }
   ],
   "source": [
    "print(df[\"Physical Activity Level\"].mean())\n",
    "print(df[\"Physical Activity Level\"].std())\n",
    "print(np.median(df[\"Physical Activity Level\"]))"
   ]
  },
  {
   "cell_type": "code",
   "execution_count": 197,
   "id": "c730a0ec-72e1-48ad-8b30-fa26a09780c7",
   "metadata": {},
   "outputs": [
    {
     "name": "stdout",
     "output_type": "stream",
     "text": [
      "5.385026737967914\n",
      "1.7745264441985167\n",
      "5.0\n"
     ]
    }
   ],
   "source": [
    "print(df[\"Stress Level\"].mean())\n",
    "print(df[\"Stress Level\"].std())\n",
    "print(np.median(df[\"Stress Level\"]))"
   ]
  },
  {
   "cell_type": "code",
   "execution_count": 199,
   "id": "c1aba63a-1bb5-4008-b6ef-13532f8b0eae",
   "metadata": {},
   "outputs": [
    {
     "name": "stdout",
     "output_type": "stream",
     "text": [
      "70.16577540106952\n",
      "4.135675535112214\n",
      "70.0\n"
     ]
    }
   ],
   "source": [
    "print(df[\"Heart Rate\"].mean())\n",
    "print(df[\"Heart Rate\"].std())\n",
    "print(np.median(df[\"Heart Rate\"]))"
   ]
  },
  {
   "cell_type": "code",
   "execution_count": 201,
   "id": "2f8ed3c7-3c10-496c-9bc1-8f6d07889be9",
   "metadata": {},
   "outputs": [
    {
     "name": "stdout",
     "output_type": "stream",
     "text": [
      "6816.844919786096\n",
      "1617.915679133637\n",
      "7000.0\n"
     ]
    }
   ],
   "source": [
    "print(df[\"Daily Steps\"].mean())\n",
    "print(df[\"Daily Steps\"].std())\n",
    "print(np.median(df[\"Daily Steps\"]))"
   ]
  },
  {
   "cell_type": "code",
   "execution_count": 203,
   "id": "9e9c7631-7f1a-4611-a212-4a01e7de5343",
   "metadata": {},
   "outputs": [],
   "source": [
    "#değerlerin normal olduğunu görüyorum ve normalizasyona geçiyorum"
   ]
  },
  {
   "cell_type": "code",
   "execution_count": 223,
   "id": "833dfc2b-7454-45fb-88b1-216bd11991d4",
   "metadata": {},
   "outputs": [
    {
     "name": "stdout",
     "output_type": "stream",
     "text": [
      "     Person ID      Age  Sleep Duration  Quality of Sleep  \\\n",
      "0     0.000000  0.00000        0.111111               0.4   \n",
      "1     0.002681  0.03125        0.148148               0.4   \n",
      "2     0.005362  0.03125        0.148148               0.4   \n",
      "6     0.016086  0.06250        0.185185               0.4   \n",
      "7     0.018767  0.06250        0.740741               0.6   \n",
      "..         ...      ...             ...               ...   \n",
      "369   0.989276  1.00000        0.851852               1.0   \n",
      "370   0.991957  1.00000        0.814815               1.0   \n",
      "371   0.994638  1.00000        0.851852               1.0   \n",
      "372   0.997319  1.00000        0.851852               1.0   \n",
      "373   1.000000  1.00000        0.851852               1.0   \n",
      "\n",
      "     Physical Activity Level  Stress Level  Heart Rate  Daily Steps  \n",
      "0                   0.200000           0.6    0.705882     0.107692  \n",
      "1                   0.500000           1.0    0.588235     1.000000  \n",
      "2                   0.500000           1.0    0.588235     1.000000  \n",
      "6                   0.166667           0.8    1.000000     0.000000  \n",
      "7                   0.750000           0.6    0.294118     0.692308  \n",
      "..                       ...           ...         ...          ...  \n",
      "369                 0.750000           0.0    0.176471     0.538462  \n",
      "370                 0.750000           0.0    0.176471     0.538462  \n",
      "371                 0.750000           0.0    0.176471     0.538462  \n",
      "372                 0.750000           0.0    0.176471     0.538462  \n",
      "373                 0.750000           0.0    0.176471     0.538462  \n",
      "\n",
      "[365 rows x 8 columns]\n"
     ]
    }
   ],
   "source": [
    "dfScaler = df.select_dtypes(include=[np.number])  \n",
    "x = (dfScaler - dfScaler.min()) / (dfScaler.max() - dfScaler.min())  \n",
    "\n",
    "print(x)"
   ]
  },
  {
   "cell_type": "code",
   "execution_count": 225,
   "id": "d374d26d-f300-4bfb-ae05-9685b10b47bb",
   "metadata": {},
   "outputs": [],
   "source": [
    "#regressiona geçiyoruz"
   ]
  },
  {
   "cell_type": "code",
   "execution_count": 227,
   "id": "8b4294aa-408b-4434-92f8-d1ccf6971778",
   "metadata": {},
   "outputs": [
    {
     "name": "stdout",
     "output_type": "stream",
     "text": [
      "     Person ID       Age  Sleep Duration  Quality of Sleep  \\\n",
      "0     1.743241  1.767343        1.304636          1.145467   \n",
      "1     1.733941  1.651550        1.178526          1.145467   \n",
      "2     1.724641  1.651550        1.178526          1.145467   \n",
      "6     1.687442  1.535758        1.052416          1.145467   \n",
      "7     1.678142  1.535758        0.839238          0.286955   \n",
      "..         ...       ...             ...               ...   \n",
      "369   1.688435  1.938017        1.217568          1.430070   \n",
      "370   1.697735  1.938017        1.091458          1.430070   \n",
      "371   1.707035  1.938017        1.217568          1.430070   \n",
      "372   1.716335  1.938017        1.217568          1.430070   \n",
      "373   1.725635  1.938017        1.217568          1.430070   \n",
      "\n",
      "     Physical Activity Level  Stress Level  Heart Rate  Daily Steps  \n",
      "0                   0.828552      0.350039    2.056611     1.756870  \n",
      "1                   0.036883      1.480696    1.484459     2.013322  \n",
      "2                   0.036883      1.480696    1.484459     2.013322  \n",
      "6                   0.924711      0.915368    3.486990     2.211894  \n",
      "7                   0.758079      0.350039    0.054080     0.713256  \n",
      "..                       ...           ...         ...          ...  \n",
      "369                 0.758079      1.345946    0.518072     0.063222  \n",
      "370                 0.758079      1.345946    0.518072     0.063222  \n",
      "371                 0.758079      1.345946    0.518072     0.063222  \n",
      "372                 0.758079      1.345946    0.518072     0.063222  \n",
      "373                 0.758079      1.345946    0.518072     0.063222  \n",
      "\n",
      "[365 rows x 8 columns]\n"
     ]
    }
   ],
   "source": [
    "import matplotlib.pyplot as plt\n",
    "from sklearn.linear_model import LinearRegression\n",
    "from sklearn.tree import DecisionTreeRegressor\n",
    "from sklearn.ensemble import RandomForestRegressor\n",
    "from sklearn.metrics import r2_score,mean_absolute_percentage_error\n",
    "from scipy import stats\n",
    "\n",
    "df_numeric = df.select_dtypes(include=[np.number])\n",
    "z = np.abs(stats.zscore(df_numeric))\n",
    "print(z)  # zscore hesaplattık"
   ]
  },
  {
   "cell_type": "code",
   "execution_count": 229,
   "id": "d04a9706-a5cc-4709-880a-2ae7342c6918",
   "metadata": {},
   "outputs": [
    {
     "name": "stdout",
     "output_type": "stream",
     "text": [
      "(array([ 3, 77, 78], dtype=int64), array([6, 6, 6], dtype=int64))\n"
     ]
    }
   ],
   "source": [
    "print(np.where (z>3))"
   ]
  },
  {
   "cell_type": "code",
   "execution_count": 231,
   "id": "03458b59-0a6a-4370-a39e-f83e2ee430a1",
   "metadata": {},
   "outputs": [
    {
     "name": "stdout",
     "output_type": "stream",
     "text": [
      "Index([6, 80, 81], dtype='int64')\n"
     ]
    }
   ],
   "source": [
    "selected=df.iloc[np.where (z>3)[0]].index\n",
    "print(selected)"
   ]
  },
  {
   "cell_type": "code",
   "execution_count": 233,
   "id": "a7760498-3353-4a45-b622-385e5e434686",
   "metadata": {},
   "outputs": [],
   "source": [
    "dfN=df.drop(selected,axis=0,inplace=True)"
   ]
  },
  {
   "cell_type": "code",
   "execution_count": 235,
   "id": "afc7c1b2-11d6-4b63-9988-74b2f08325a9",
   "metadata": {},
   "outputs": [
    {
     "name": "stdout",
     "output_type": "stream",
     "text": [
      "(362, 13)\n"
     ]
    }
   ],
   "source": [
    "dfN=df\n",
    "print(dfN.shape)"
   ]
  },
  {
   "cell_type": "code",
   "execution_count": 242,
   "id": "67a7ad3e-32a0-4d75-aede-9bc407d6b42e",
   "metadata": {},
   "outputs": [],
   "source": [
    "dfN = dfN.select_dtypes(include=[np.number])  # Sadece sayısal sütunları seç\n",
    "dfN = (dfN - dfN.min()) / (dfN.max() - dfN.min())"
   ]
  },
  {
   "cell_type": "code",
   "execution_count": 244,
   "id": "ad44d04f-7849-4741-897f-274388a55030",
   "metadata": {},
   "outputs": [
    {
     "name": "stdout",
     "output_type": "stream",
     "text": [
      "     Person ID      Age  Sleep Duration  Quality of Sleep  \\\n",
      "0     0.000000  0.00000        0.076923              0.25   \n",
      "1     0.002681  0.03125        0.115385              0.25   \n",
      "2     0.005362  0.03125        0.115385              0.25   \n",
      "7     0.018767  0.06250        0.730769              0.50   \n",
      "8     0.021448  0.06250        0.730769              0.50   \n",
      "..         ...      ...             ...               ...   \n",
      "369   0.989276  1.00000        0.846154              1.00   \n",
      "370   0.991957  1.00000        0.807692              1.00   \n",
      "371   0.994638  1.00000        0.846154              1.00   \n",
      "372   0.997319  1.00000        0.846154              1.00   \n",
      "373   1.000000  1.00000        0.846154              1.00   \n",
      "\n",
      "     Physical Activity Level  Stress Level  Heart Rate  Daily Steps  \n",
      "0                       0.20           0.6    0.800000     0.033333  \n",
      "1                       0.50           1.0    0.666667     1.000000  \n",
      "2                       0.50           1.0    0.666667     1.000000  \n",
      "7                       0.75           0.6    0.333333     0.666667  \n",
      "8                       0.75           0.6    0.333333     0.666667  \n",
      "..                       ...           ...         ...          ...  \n",
      "369                     0.75           0.0    0.200000     0.500000  \n",
      "370                     0.75           0.0    0.200000     0.500000  \n",
      "371                     0.75           0.0    0.200000     0.500000  \n",
      "372                     0.75           0.0    0.200000     0.500000  \n",
      "373                     0.75           0.0    0.200000     0.500000  \n",
      "\n",
      "[362 rows x 8 columns]\n"
     ]
    }
   ],
   "source": [
    "print(dfN)"
   ]
  },
  {
   "cell_type": "code",
   "execution_count": 274,
   "id": "d092595f-6608-4d11-8e63-e1200b8d96fa",
   "metadata": {},
   "outputs": [
    {
     "name": "stdout",
     "output_type": "stream",
     "text": [
      "Person ID                  0\n",
      "Age                        0\n",
      "Sleep Duration             0\n",
      "Quality of Sleep           0\n",
      "Physical Activity Level    0\n",
      "Stress Level               0\n",
      "Heart Rate                 0\n",
      "Daily Steps                0\n",
      "dtype: int64\n"
     ]
    }
   ],
   "source": [
    "# Eksik değerleri kontrol et\n",
    "print(dfN.isnull().sum())\n",
    "\n",
    "# Eksik değerleri temizle\n",
    "dfN = dfN.dropna()\n",
    "\n",
    "# x ve y'yi yeniden oluştur\n",
    "y = dfN.loc[:, \"Stress Level\"].values\n",
    "x = dfN.drop(\"Stress Level\", axis=1).values\n"
   ]
  },
  {
   "cell_type": "code",
   "execution_count": 276,
   "id": "83b161e4-eee1-4b78-95a3-0e84d7d5232b",
   "metadata": {},
   "outputs": [
    {
     "name": "stdout",
     "output_type": "stream",
     "text": [
      "Linear Regression Predictions: [ 0.32587074  0.57208781  0.57314165 -0.03173077  0.79863569]\n",
      "Decision Tree Predictions: [0.4 0.6 0.6 0.  1. ]\n",
      "Random Forest Predictions: [0.4 0.6 0.6 0.  1. ]\n"
     ]
    }
   ],
   "source": [
    "from sklearn.model_selection import train_test_split\n",
    "from sklearn.tree import DecisionTreeRegressor\n",
    "from sklearn.ensemble import RandomForestRegressor\n",
    "from sklearn.linear_model import LinearRegression\n",
    "\n",
    "# Verileri böl\n",
    "x_train, x_test, y_train, y_test = train_test_split(x, y, test_size=0.1, random_state=42)\n",
    "\n",
    "# Linear Regression\n",
    "mlr = LinearRegression()\n",
    "mlr.fit(x_train, y_train)\n",
    "mlr_pred = mlr.predict(x_test)\n",
    "\n",
    "# Decision Tree Regressor\n",
    "dt = DecisionTreeRegressor()\n",
    "dt.fit(x_train, y_train)\n",
    "dt_pred = dt.predict(x_test)\n",
    "\n",
    "# Random Forest Regressor\n",
    "rf = RandomForestRegressor(n_estimators=100, random_state=42)\n",
    "rf.fit(x_train, y_train.ravel())  # ravel() hedef değişkenin boyutunu düzleştirir\n",
    "rf_pred = rf.predict(x_test)\n",
    "\n",
    "print(\"Linear Regression Predictions:\", mlr_pred[:5])\n",
    "print(\"Decision Tree Predictions:\", dt_pred[:5])\n",
    "print(\"Random Forest Predictions:\", rf_pred[:5])\n"
   ]
  },
  {
   "cell_type": "code",
   "execution_count": 278,
   "id": "0a708f8c-523b-4ee9-9b51-19ea0fc15d1f",
   "metadata": {},
   "outputs": [
    {
     "name": "stdout",
     "output_type": "stream",
     "text": [
      "mlr 0.8963915331405649 24651302213360.33\n",
      "dt 0.9581920903954803 0.027027027027027254\n",
      "rf 0.9781438700564973 2190940359261.3508\n"
     ]
    }
   ],
   "source": [
    "print(\"mlr\",r2_score(y_test,mlr_pred),mean_absolute_percentage_error(y_test,mlr_pred))\n",
    "print(\"dt\",r2_score(y_test,dt_pred),mean_absolute_percentage_error(y_test,dt_pred))\n",
    "print(\"rf\",r2_score(y_test,rf_pred),mean_absolute_percentage_error(y_test,rf_pred))"
   ]
  },
  {
   "cell_type": "code",
   "execution_count": 283,
   "id": "8e860889-512f-4876-be13-03f4b0b3e891",
   "metadata": {},
   "outputs": [
    {
     "name": "stdout",
     "output_type": "stream",
     "text": [
      "-342187000.90464205 [ 3.42187041e+08 -1.38471700e-01 -1.84877048e+01 -7.54979559e+00\n",
      " -5.26005922e+01  4.42728146e+01 -8.86376721e+01 -1.62281979e+02\n",
      "  6.29493268e-02 -3.72728089e-02  2.18281576e-02  3.08014684e-01\n",
      " -6.67632464e-02  3.31953159e-01  5.08708674e-02 -1.31874071e+00\n",
      " -1.44955400e-01  4.48794652e+01 -4.38855852e+01  3.54253579e+01\n",
      "  5.50413584e+01  5.72445571e-01  3.97473745e+00  5.13585466e+00\n",
      " -8.78549925e+00  1.92327855e+01 -5.54672474e+01  3.50017185e+01\n",
      "  9.41135934e+01  2.18493344e+02  1.46642551e+01 -2.33604528e+01\n",
      " -2.04561881e+02  5.18838131e+01  2.28273056e+02  2.08950935e+02\n",
      " -6.01440502e-02  8.83219999e-02 -1.89703861e-01  1.77091799e-01\n",
      "  8.44468572e-02 -8.29764607e-02 -4.44735027e-02  6.04407164e-02\n",
      "  2.89238174e-01 -4.66305429e-01  1.02938169e-01  3.67284861e-02\n",
      " -1.52988035e-01 -5.07588299e-02  1.16417466e-01 -3.04101292e-01\n",
      " -4.28671253e-02  3.53915881e-01 -1.96105571e-01  1.29851324e-01\n",
      " -2.43438588e-01 -2.33490345e-01  8.90458959e-02  4.61823014e-02\n",
      " -1.29294007e-01 -1.70227544e-01 -1.59370068e-01  9.28582595e-02\n",
      " -2.64139841e-01 -1.80245035e-01  2.24006130e+00 -3.07521344e-01\n",
      "  3.41056194e+00 -7.87958982e-01 -1.15263669e-01  5.49114845e-01\n",
      "  2.13324366e-01  9.93244580e-01 -7.87585877e-01 -2.57893924e+01\n",
      "  4.98391805e+01 -4.63754420e+01 -6.31723176e+01 -1.61448565e+00\n",
      "  5.15327322e+01 -3.04262368e+00 -1.92283647e+01 -6.41623651e+01\n",
      "  6.61477258e+00 -2.35746204e-01  2.98959496e-01  2.47581871e-01\n",
      " -6.11029042e-01 -3.17678486e-01 -1.46784316e+00 -1.22188771e+01\n",
      " -9.30825403e+00  1.10206077e+01  7.76928829e+00 -5.04077461e+01\n",
      "  1.37346184e+01  2.81164044e+01  3.76928943e+01 -3.56067684e+01\n",
      "  6.35173220e+01 -1.07567823e+02  6.22974925e+01 -2.96941055e+01\n",
      "  3.86240096e+01 -5.77617192e+01  1.30356563e+02 -4.45967085e+01\n",
      " -1.75444715e+02 -1.82885582e+02 -5.70268044e+00  2.79157104e+01\n",
      " -7.80034154e+01 -2.69381562e+01  9.73017150e+01  1.61417993e+02\n",
      " -3.84412995e+00 -5.35937387e+01 -1.42240924e+02 -8.04268597e+01]\n"
     ]
    },
    {
     "ename": "ValueError",
     "evalue": "X has 10 features, but LinearRegression is expecting 120 features as input.",
     "output_type": "error",
     "traceback": [
      "\u001b[1;31m---------------------------------------------------------------------------\u001b[0m",
      "\u001b[1;31mValueError\u001b[0m                                Traceback (most recent call last)",
      "Cell \u001b[1;32mIn[283], line 13\u001b[0m\n\u001b[0;32m     10\u001b[0m \u001b[38;5;28mprint\u001b[39m(lr_pol\u001b[38;5;241m.\u001b[39mintercept_,lr_pol\u001b[38;5;241m.\u001b[39mcoef_)\n\u001b[0;32m     12\u001b[0m xnew\u001b[38;5;241m=\u001b[39mplr\u001b[38;5;241m.\u001b[39mfit_transform(np\u001b[38;5;241m.\u001b[39marray([[\u001b[38;5;241m80\u001b[39m,\u001b[38;5;241m22\u001b[39m]]))\n\u001b[1;32m---> 13\u001b[0m y_pred_pol\u001b[38;5;241m=\u001b[39mlr_pol\u001b[38;5;241m.\u001b[39mpredict(xnew)\n\u001b[0;32m     14\u001b[0m \u001b[38;5;28mprint\u001b[39m(y_pred_pol)\n",
      "File \u001b[1;32m~\\anaconda3\\Lib\\site-packages\\sklearn\\linear_model\\_base.py:286\u001b[0m, in \u001b[0;36mLinearModel.predict\u001b[1;34m(self, X)\u001b[0m\n\u001b[0;32m    272\u001b[0m \u001b[38;5;28;01mdef\u001b[39;00m \u001b[38;5;21mpredict\u001b[39m(\u001b[38;5;28mself\u001b[39m, X):\n\u001b[0;32m    273\u001b[0m \u001b[38;5;250m    \u001b[39m\u001b[38;5;124;03m\"\"\"\u001b[39;00m\n\u001b[0;32m    274\u001b[0m \u001b[38;5;124;03m    Predict using the linear model.\u001b[39;00m\n\u001b[0;32m    275\u001b[0m \n\u001b[1;32m   (...)\u001b[0m\n\u001b[0;32m    284\u001b[0m \u001b[38;5;124;03m        Returns predicted values.\u001b[39;00m\n\u001b[0;32m    285\u001b[0m \u001b[38;5;124;03m    \"\"\"\u001b[39;00m\n\u001b[1;32m--> 286\u001b[0m     \u001b[38;5;28;01mreturn\u001b[39;00m \u001b[38;5;28mself\u001b[39m\u001b[38;5;241m.\u001b[39m_decision_function(X)\n",
      "File \u001b[1;32m~\\anaconda3\\Lib\\site-packages\\sklearn\\linear_model\\_base.py:269\u001b[0m, in \u001b[0;36mLinearModel._decision_function\u001b[1;34m(self, X)\u001b[0m\n\u001b[0;32m    266\u001b[0m \u001b[38;5;28;01mdef\u001b[39;00m \u001b[38;5;21m_decision_function\u001b[39m(\u001b[38;5;28mself\u001b[39m, X):\n\u001b[0;32m    267\u001b[0m     check_is_fitted(\u001b[38;5;28mself\u001b[39m)\n\u001b[1;32m--> 269\u001b[0m     X \u001b[38;5;241m=\u001b[39m \u001b[38;5;28mself\u001b[39m\u001b[38;5;241m.\u001b[39m_validate_data(X, accept_sparse\u001b[38;5;241m=\u001b[39m[\u001b[38;5;124m\"\u001b[39m\u001b[38;5;124mcsr\u001b[39m\u001b[38;5;124m\"\u001b[39m, \u001b[38;5;124m\"\u001b[39m\u001b[38;5;124mcsc\u001b[39m\u001b[38;5;124m\"\u001b[39m, \u001b[38;5;124m\"\u001b[39m\u001b[38;5;124mcoo\u001b[39m\u001b[38;5;124m\"\u001b[39m], reset\u001b[38;5;241m=\u001b[39m\u001b[38;5;28;01mFalse\u001b[39;00m)\n\u001b[0;32m    270\u001b[0m     \u001b[38;5;28;01mreturn\u001b[39;00m safe_sparse_dot(X, \u001b[38;5;28mself\u001b[39m\u001b[38;5;241m.\u001b[39mcoef_\u001b[38;5;241m.\u001b[39mT, dense_output\u001b[38;5;241m=\u001b[39m\u001b[38;5;28;01mTrue\u001b[39;00m) \u001b[38;5;241m+\u001b[39m \u001b[38;5;28mself\u001b[39m\u001b[38;5;241m.\u001b[39mintercept_\n",
      "File \u001b[1;32m~\\anaconda3\\Lib\\site-packages\\sklearn\\base.py:654\u001b[0m, in \u001b[0;36mBaseEstimator._validate_data\u001b[1;34m(self, X, y, reset, validate_separately, cast_to_ndarray, **check_params)\u001b[0m\n\u001b[0;32m    651\u001b[0m     out \u001b[38;5;241m=\u001b[39m X, y\n\u001b[0;32m    653\u001b[0m \u001b[38;5;28;01mif\u001b[39;00m \u001b[38;5;129;01mnot\u001b[39;00m no_val_X \u001b[38;5;129;01mand\u001b[39;00m check_params\u001b[38;5;241m.\u001b[39mget(\u001b[38;5;124m\"\u001b[39m\u001b[38;5;124mensure_2d\u001b[39m\u001b[38;5;124m\"\u001b[39m, \u001b[38;5;28;01mTrue\u001b[39;00m):\n\u001b[1;32m--> 654\u001b[0m     \u001b[38;5;28mself\u001b[39m\u001b[38;5;241m.\u001b[39m_check_n_features(X, reset\u001b[38;5;241m=\u001b[39mreset)\n\u001b[0;32m    656\u001b[0m \u001b[38;5;28;01mreturn\u001b[39;00m out\n",
      "File \u001b[1;32m~\\anaconda3\\Lib\\site-packages\\sklearn\\base.py:443\u001b[0m, in \u001b[0;36mBaseEstimator._check_n_features\u001b[1;34m(self, X, reset)\u001b[0m\n\u001b[0;32m    440\u001b[0m     \u001b[38;5;28;01mreturn\u001b[39;00m\n\u001b[0;32m    442\u001b[0m \u001b[38;5;28;01mif\u001b[39;00m n_features \u001b[38;5;241m!=\u001b[39m \u001b[38;5;28mself\u001b[39m\u001b[38;5;241m.\u001b[39mn_features_in_:\n\u001b[1;32m--> 443\u001b[0m     \u001b[38;5;28;01mraise\u001b[39;00m \u001b[38;5;167;01mValueError\u001b[39;00m(\n\u001b[0;32m    444\u001b[0m         \u001b[38;5;124mf\u001b[39m\u001b[38;5;124m\"\u001b[39m\u001b[38;5;124mX has \u001b[39m\u001b[38;5;132;01m{\u001b[39;00mn_features\u001b[38;5;132;01m}\u001b[39;00m\u001b[38;5;124m features, but \u001b[39m\u001b[38;5;132;01m{\u001b[39;00m\u001b[38;5;28mself\u001b[39m\u001b[38;5;241m.\u001b[39m\u001b[38;5;18m__class__\u001b[39m\u001b[38;5;241m.\u001b[39m\u001b[38;5;18m__name__\u001b[39m\u001b[38;5;132;01m}\u001b[39;00m\u001b[38;5;124m \u001b[39m\u001b[38;5;124m\"\u001b[39m\n\u001b[0;32m    445\u001b[0m         \u001b[38;5;124mf\u001b[39m\u001b[38;5;124m\"\u001b[39m\u001b[38;5;124mis expecting \u001b[39m\u001b[38;5;132;01m{\u001b[39;00m\u001b[38;5;28mself\u001b[39m\u001b[38;5;241m.\u001b[39mn_features_in_\u001b[38;5;132;01m}\u001b[39;00m\u001b[38;5;124m features as input.\u001b[39m\u001b[38;5;124m\"\u001b[39m\n\u001b[0;32m    446\u001b[0m     )\n",
      "\u001b[1;31mValueError\u001b[0m: X has 10 features, but LinearRegression is expecting 120 features as input."
     ]
    }
   ],
   "source": [
    "from sklearn.preprocessing import PolynomialFeatures\n",
    "plr=PolynomialFeatures(degree=3)\n",
    "\n",
    "x_pol=plr.fit_transform(x)\n",
    "#1, a,b,a^2,ab,b^2\n",
    "\n",
    "#print(x_pol)\n",
    "lr_pol=LinearRegression()\n",
    "lr_pol.fit(x_pol,y)\n",
    "print(lr_pol.intercept_,lr_pol.coef_)\n",
    "\n",
    "xnew=plr.fit_transform(np.array([[80,22]]))\n",
    "y_pred_pol=lr_pol.predict(xnew)\n",
    "print(y_pred_pol) "
   ]
  },
  {
   "cell_type": "code",
   "execution_count": 287,
   "id": "f6f610b3-ac82-40a5-b59b-9dc0d524da8a",
   "metadata": {},
   "outputs": [
    {
     "name": "stdout",
     "output_type": "stream",
     "text": [
      "Mean Absolute Error (MAE): 1.7455796510474074e-05\n",
      "Mean Squared Error (MSE): 6.237985362142201e-10\n",
      "Mean Absolute Percentage Error (MAPE): 0.004182630499339291%\n"
     ]
    }
   ],
   "source": [
    "import numpy as np\n",
    "from sklearn.metrics import mean_absolute_error, mean_squared_error\n",
    "\n",
    "# Modelin tahminleri\n",
    "y_pred_pol = lr_pol.predict(x_pol)  # Polinom regresyonu tahminleri\n",
    "\n",
    "# MAE Hesaplama\n",
    "mae = mean_absolute_error(y, y_pred_pol)\n",
    "print(f\"Mean Absolute Error (MAE): {mae}\")\n",
    "\n",
    "# MSE Hesaplama\n",
    "mse = mean_squared_error(y, y_pred_pol)\n",
    "print(f\"Mean Squared Error (MSE): {mse}\")\n",
    "\n",
    "# MAPE Hesaplama (sıfır değerleri görmezden gelerek)\n",
    "# Gerçek değer sıfır olmadığı verilerle MAPE hesaplama\n",
    "non_zero_mask = y != 0  # Gerçek değeri sıfır olmayan verileri seç\n",
    "mape = np.mean(np.abs((y[non_zero_mask] - y_pred_pol[non_zero_mask]) / y[non_zero_mask])) * 100\n",
    "print(f\"Mean Absolute Percentage Error (MAPE): {mape}%\")\n"
   ]
  },
  {
   "cell_type": "code",
   "execution_count": null,
   "id": "38a5c381-0d5e-42b7-a438-70e83f3774c8",
   "metadata": {},
   "outputs": [],
   "source": []
  }
 ],
 "metadata": {
  "kernelspec": {
   "display_name": "Python 3 (ipykernel)",
   "language": "python",
   "name": "python3"
  },
  "language_info": {
   "codemirror_mode": {
    "name": "ipython",
    "version": 3
   },
   "file_extension": ".py",
   "mimetype": "text/x-python",
   "name": "python",
   "nbconvert_exporter": "python",
   "pygments_lexer": "ipython3",
   "version": "3.12.4"
  }
 },
 "nbformat": 4,
 "nbformat_minor": 5
}
